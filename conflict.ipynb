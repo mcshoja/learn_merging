{
 "cells": [
  {
   "cell_type": "code",
   "execution_count": 1,
   "id": "f3865e25",
   "metadata": {},
   "outputs": [],
   "source": [
    "import numpy as np\n",
    "import matplotlib.pyplot as plt"
   ]
  },
  {
   "cell_type": "code",
   "execution_count": 2,
   "id": "d119d11f",
   "metadata": {},
   "outputs": [
    {
     "name": "stdout",
     "output_type": "stream",
     "text": [
      "[19 10 18 17 13 15 10 16 16 11 10 18 17 10 10 19 15 12 11 16]\n",
      "[0.7666616  0.58728864 0.15673131 0.92529851 0.65364803 0.24771178\n",
      " 0.97215231 0.75188545 0.99041156 0.3854626 ]\n"
     ]
    }
   ],
   "source": [
    "x = np.random.randint(10, 20, size=20)\n",
    "y = np.random.rand(10)\n",
    "print(x)\n",
    "print(y)"
   ]
  },
  {
   "cell_type": "code",
   "execution_count": 3,
   "id": "a77786fa",
   "metadata": {},
   "outputs": [
    {
     "name": "stdout",
     "output_type": "stream",
     "text": [
      "<class 'numpy.ndarray'>\n"
     ]
    }
   ],
   "source": [
    "print(type(x))"
   ]
  }
 ],
 "metadata": {
  "kernelspec": {
   "display_name": "Python 3",
   "language": "python",
   "name": "python3"
  },
  "language_info": {
   "codemirror_mode": {
    "name": "ipython",
    "version": 3
   },
   "file_extension": ".py",
   "mimetype": "text/x-python",
   "name": "python",
   "nbconvert_exporter": "python",
   "pygments_lexer": "ipython3",
   "version": "3.8.5"
  }
 },
 "nbformat": 4,
 "nbformat_minor": 5
}
